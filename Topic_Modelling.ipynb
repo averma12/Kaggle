{
  "nbformat": 4,
  "nbformat_minor": 0,
  "metadata": {
    "colab": {
      "name": "Topic_Modelling.ipynb",
      "version": "0.3.2",
      "provenance": [],
      "include_colab_link": true
    },
    "kernelspec": {
      "name": "python3",
      "display_name": "Python 3"
    }
  },
  "cells": [
    {
      "cell_type": "markdown",
      "metadata": {
        "id": "view-in-github",
        "colab_type": "text"
      },
      "source": [
        "<a href=\"https://colab.research.google.com/github/averma12/Kaggle/blob/master/Topic_Modelling.ipynb\" target=\"_parent\"><img src=\"https://colab.research.google.com/assets/colab-badge.svg\" alt=\"Open In Colab\"/></a>"
      ]
    },
    {
      "metadata": {
        "id": "zeSHRCSTFbLd",
        "colab_type": "code",
        "colab": {}
      },
      "cell_type": "code",
      "source": [
        "import numpy as np\n",
        "import os\n"
      ],
      "execution_count": 0,
      "outputs": []
    },
    {
      "metadata": {
        "id": "pm66GZuwTcUr",
        "colab_type": "code",
        "colab": {
          "base_uri": "https://localhost:8080/",
          "height": 204
        },
        "outputId": "c67a3d24-45b6-4b0d-8897-d639aae121f5"
      },
      "cell_type": "code",
      "source": [
        "! pip install kaggle"
      ],
      "execution_count": 12,
      "outputs": [
        {
          "output_type": "stream",
          "text": [
            "Requirement already satisfied: kaggle in /usr/local/lib/python3.6/dist-packages (1.5.2)\n",
            "Requirement already satisfied: urllib3<1.23.0,>=1.15 in /usr/local/lib/python3.6/dist-packages (from kaggle) (1.22)\n",
            "Requirement already satisfied: six>=1.10 in /usr/local/lib/python3.6/dist-packages (from kaggle) (1.11.0)\n",
            "Requirement already satisfied: certifi in /usr/local/lib/python3.6/dist-packages (from kaggle) (2018.11.29)\n",
            "Requirement already satisfied: python-dateutil in /usr/local/lib/python3.6/dist-packages (from kaggle) (2.5.3)\n",
            "Requirement already satisfied: requests in /usr/local/lib/python3.6/dist-packages (from kaggle) (2.18.4)\n",
            "Requirement already satisfied: tqdm in /usr/local/lib/python3.6/dist-packages (from kaggle) (4.28.1)\n",
            "Requirement already satisfied: python-slugify in /usr/local/lib/python3.6/dist-packages (from kaggle) (2.0.1)\n",
            "Requirement already satisfied: chardet<3.1.0,>=3.0.2 in /usr/local/lib/python3.6/dist-packages (from requests->kaggle) (3.0.4)\n",
            "Requirement already satisfied: idna<2.7,>=2.5 in /usr/local/lib/python3.6/dist-packages (from requests->kaggle) (2.6)\n",
            "Requirement already satisfied: Unidecode>=0.04.16 in /usr/local/lib/python3.6/dist-packages (from python-slugify->kaggle) (1.0.23)\n"
          ],
          "name": "stdout"
        }
      ]
    },
    {
      "metadata": {
        "id": "mqK5LLuJSXwQ",
        "colab_type": "code",
        "colab": {}
      },
      "cell_type": "code",
      "source": [
        "import json\n",
        "token = {\"removed\"}"
      ],
      "execution_count": 0,
      "outputs": []
    },
    {
      "metadata": {
        "id": "lT5ZEV9OS-ty",
        "colab_type": "code",
        "colab": {}
      },
      "cell_type": "code",
      "source": [
        "os.makedirs('/root/.kaggle/',exist_ok=True)"
      ],
      "execution_count": 0,
      "outputs": []
    },
    {
      "metadata": {
        "id": "IoQtrOc0Twvp",
        "colab_type": "code",
        "colab": {}
      },
      "cell_type": "code",
      "source": [
        "os.chmod()"
      ],
      "execution_count": 0,
      "outputs": []
    },
    {
      "metadata": {
        "id": "UK0u2OeUSw-x",
        "colab_type": "code",
        "colab": {}
      },
      "cell_type": "code",
      "source": [
        "with open('/root/.kaggle/kaggle.json', 'w') as file:\n",
        "  json.dump(token, file)"
      ],
      "execution_count": 0,
      "outputs": []
    },
    {
      "metadata": {
        "id": "O6upSOMiT1H-",
        "colab_type": "code",
        "colab": {}
      },
      "cell_type": "code",
      "source": [
        "os.chmod('/root/.kaggle/kaggle.json',600)"
      ],
      "execution_count": 0,
      "outputs": []
    },
    {
      "metadata": {
        "id": "POrrkx8pTLlZ",
        "colab_type": "code",
        "colab": {}
      },
      "cell_type": "code",
      "source": [
        "os.makedirs('/content/topic_model/',exist_ok=True)"
      ],
      "execution_count": 0,
      "outputs": []
    },
    {
      "metadata": {
        "id": "H9S3qyxQFjtd",
        "colab_type": "code",
        "colab": {
          "base_uri": "https://localhost:8080/",
          "height": 170
        },
        "outputId": "1dc0b920-8ef2-4eed-d62f-3b91468dad04"
      },
      "cell_type": "code",
      "source": [
        "! kaggle competitions download -c spooky-author-identification -p /content/topic_model"
      ],
      "execution_count": 8,
      "outputs": [
        {
          "output_type": "stream",
          "text": [
            "Downloading sample_submission.zip to /content/topic_model\n",
            "\r  0% 0.00/29.4k [00:00<?, ?B/s]\n",
            "100% 29.4k/29.4k [00:00<00:00, 12.0MB/s]\n",
            "Downloading test.zip to /content/topic_model\n",
            "  0% 0.00/538k [00:00<?, ?B/s]\n",
            "100% 538k/538k [00:00<00:00, 34.9MB/s]\n",
            "Downloading train.zip to /content/topic_model\n",
            "  0% 0.00/1.26M [00:00<?, ?B/s]\n",
            "100% 1.26M/1.26M [00:00<00:00, 79.5MB/s]\n"
          ],
          "name": "stdout"
        }
      ]
    },
    {
      "metadata": {
        "id": "-Msoe2SuXdVV",
        "colab_type": "code",
        "colab": {}
      },
      "cell_type": "code",
      "source": [
        "import pandas as pd\n",
        "import nltk\n",
        "import re\n",
        "import seaborn as sns\n",
        "import matplotlib.pyplot as plt"
      ],
      "execution_count": 0,
      "outputs": []
    },
    {
      "metadata": {
        "id": "8M9IJwvDaGG9",
        "colab_type": "code",
        "colab": {
          "base_uri": "https://localhost:8080/",
          "height": 51
        },
        "outputId": "bc87735a-6730-46a2-8064-4608d8a1922d"
      },
      "cell_type": "code",
      "source": [
        "! unzip /content/topic_model/train.zip"
      ],
      "execution_count": 10,
      "outputs": [
        {
          "output_type": "stream",
          "text": [
            "Archive:  /content/topic_model/train.zip\n",
            "  inflating: train.csv               \n"
          ],
          "name": "stdout"
        }
      ]
    },
    {
      "metadata": {
        "id": "ePnfEC_5aRxD",
        "colab_type": "code",
        "colab": {}
      },
      "cell_type": "code",
      "source": [
        "df_train = pd.read_csv('/content/train.csv')"
      ],
      "execution_count": 0,
      "outputs": []
    },
    {
      "metadata": {
        "id": "o1i4Vdw7aZ6N",
        "colab_type": "code",
        "colab": {
          "base_uri": "https://localhost:8080/",
          "height": 34
        },
        "outputId": "6a39de62-b7b6-459c-ddd3-01b20fa2b671"
      },
      "cell_type": "code",
      "source": [
        "df_train.shape"
      ],
      "execution_count": 12,
      "outputs": [
        {
          "output_type": "execute_result",
          "data": {
            "text/plain": [
              "(19579, 3)"
            ]
          },
          "metadata": {
            "tags": []
          },
          "execution_count": 12
        }
      ]
    },
    {
      "metadata": {
        "id": "NkpqTRyh9qLh",
        "colab_type": "code",
        "colab": {
          "base_uri": "https://localhost:8080/",
          "height": 359
        },
        "outputId": "a7a318aa-d81a-4ad5-8e39-63874fd5efe3"
      },
      "cell_type": "code",
      "source": [
        "df_train.head(10)"
      ],
      "execution_count": 13,
      "outputs": [
        {
          "output_type": "execute_result",
          "data": {
            "text/html": [
              "<div>\n",
              "<style scoped>\n",
              "    .dataframe tbody tr th:only-of-type {\n",
              "        vertical-align: middle;\n",
              "    }\n",
              "\n",
              "    .dataframe tbody tr th {\n",
              "        vertical-align: top;\n",
              "    }\n",
              "\n",
              "    .dataframe thead th {\n",
              "        text-align: right;\n",
              "    }\n",
              "</style>\n",
              "<table border=\"1\" class=\"dataframe\">\n",
              "  <thead>\n",
              "    <tr style=\"text-align: right;\">\n",
              "      <th></th>\n",
              "      <th>id</th>\n",
              "      <th>text</th>\n",
              "      <th>author</th>\n",
              "    </tr>\n",
              "  </thead>\n",
              "  <tbody>\n",
              "    <tr>\n",
              "      <th>0</th>\n",
              "      <td>id26305</td>\n",
              "      <td>This process, however, afforded me no means of...</td>\n",
              "      <td>EAP</td>\n",
              "    </tr>\n",
              "    <tr>\n",
              "      <th>1</th>\n",
              "      <td>id17569</td>\n",
              "      <td>It never once occurred to me that the fumbling...</td>\n",
              "      <td>HPL</td>\n",
              "    </tr>\n",
              "    <tr>\n",
              "      <th>2</th>\n",
              "      <td>id11008</td>\n",
              "      <td>In his left hand was a gold snuff box, from wh...</td>\n",
              "      <td>EAP</td>\n",
              "    </tr>\n",
              "    <tr>\n",
              "      <th>3</th>\n",
              "      <td>id27763</td>\n",
              "      <td>How lovely is spring As we looked from Windsor...</td>\n",
              "      <td>MWS</td>\n",
              "    </tr>\n",
              "    <tr>\n",
              "      <th>4</th>\n",
              "      <td>id12958</td>\n",
              "      <td>Finding nothing else, not even gold, the Super...</td>\n",
              "      <td>HPL</td>\n",
              "    </tr>\n",
              "    <tr>\n",
              "      <th>5</th>\n",
              "      <td>id22965</td>\n",
              "      <td>A youth passed in solitude, my best years spen...</td>\n",
              "      <td>MWS</td>\n",
              "    </tr>\n",
              "    <tr>\n",
              "      <th>6</th>\n",
              "      <td>id09674</td>\n",
              "      <td>The astronomer, perhaps, at this point, took r...</td>\n",
              "      <td>EAP</td>\n",
              "    </tr>\n",
              "    <tr>\n",
              "      <th>7</th>\n",
              "      <td>id13515</td>\n",
              "      <td>The surcingle hung in ribands from my body.</td>\n",
              "      <td>EAP</td>\n",
              "    </tr>\n",
              "    <tr>\n",
              "      <th>8</th>\n",
              "      <td>id19322</td>\n",
              "      <td>I knew that you could not say to yourself 'ste...</td>\n",
              "      <td>EAP</td>\n",
              "    </tr>\n",
              "    <tr>\n",
              "      <th>9</th>\n",
              "      <td>id00912</td>\n",
              "      <td>I confess that neither the structure of langua...</td>\n",
              "      <td>MWS</td>\n",
              "    </tr>\n",
              "  </tbody>\n",
              "</table>\n",
              "</div>"
            ],
            "text/plain": [
              "        id                                               text author\n",
              "0  id26305  This process, however, afforded me no means of...    EAP\n",
              "1  id17569  It never once occurred to me that the fumbling...    HPL\n",
              "2  id11008  In his left hand was a gold snuff box, from wh...    EAP\n",
              "3  id27763  How lovely is spring As we looked from Windsor...    MWS\n",
              "4  id12958  Finding nothing else, not even gold, the Super...    HPL\n",
              "5  id22965  A youth passed in solitude, my best years spen...    MWS\n",
              "6  id09674  The astronomer, perhaps, at this point, took r...    EAP\n",
              "7  id13515        The surcingle hung in ribands from my body.    EAP\n",
              "8  id19322  I knew that you could not say to yourself 'ste...    EAP\n",
              "9  id00912  I confess that neither the structure of langua...    MWS"
            ]
          },
          "metadata": {
            "tags": []
          },
          "execution_count": 13
        }
      ]
    },
    {
      "metadata": {
        "id": "RIvqXqPP_sRD",
        "colab_type": "code",
        "colab": {
          "base_uri": "https://localhost:8080/",
          "height": 34
        },
        "outputId": "59f5ebca-ed04-4eaa-88ed-101723f5b81f"
      },
      "cell_type": "code",
      "source": [
        "df_train[(df_train.author == \"EAP\")].shape[0]"
      ],
      "execution_count": 14,
      "outputs": [
        {
          "output_type": "execute_result",
          "data": {
            "text/plain": [
              "7900"
            ]
          },
          "metadata": {
            "tags": []
          },
          "execution_count": 14
        }
      ]
    },
    {
      "metadata": {
        "id": "BcsIKScDAj60",
        "colab_type": "code",
        "colab": {
          "base_uri": "https://localhost:8080/",
          "height": 34
        },
        "outputId": "270ca3d6-d189-4ff3-fb1b-8f1a43f48ab5"
      },
      "cell_type": "code",
      "source": [
        "df_train.author.value_counts().values"
      ],
      "execution_count": 15,
      "outputs": [
        {
          "output_type": "execute_result",
          "data": {
            "text/plain": [
              "array([7900, 6044, 5635])"
            ]
          },
          "metadata": {
            "tags": []
          },
          "execution_count": 15
        }
      ]
    },
    {
      "metadata": {
        "id": "nMaeY-sLBKMU",
        "colab_type": "code",
        "colab": {
          "base_uri": "https://localhost:8080/",
          "height": 401
        },
        "outputId": "bbc0b329-15f1-445f-f45b-e3310bf80a8d"
      },
      "cell_type": "code",
      "source": [
        "z = {'EAP': 'Edgar Allen Poe', 'MWS': 'Mary Shelley', 'HPL': 'HP Lovecraft'}\n",
        "sns.barplot(data=df_train,x=df_train.author.map(z).unique(),y=df_train.author.value_counts().values)\n",
        "plt.show()"
      ],
      "execution_count": 16,
      "outputs": [
        {
          "output_type": "stream",
          "text": [
            "/usr/local/lib/python3.6/dist-packages/seaborn/categorical.py:1428: FutureWarning: remove_na is deprecated and is a private function. Do not use.\n",
            "  stat_data = remove_na(group_data)\n"
          ],
          "name": "stderr"
        },
        {
          "output_type": "display_data",
          "data": {
            "image/png": "[encoded data removed]",
            "text/plain": [
              "<Figure size 576x396 with 1 Axes>"
            ]
          },
          "metadata": {
            "tags": []
          }
        }
      ]
    },
    {
      "metadata": {
        "id": "1NlKV5NvNvwj",
        "colab_type": "code",
        "colab": {
          "base_uri": "https://localhost:8080/",
          "height": 34
        },
        "outputId": "e8f2423d-eace-4939-d314-3f17844743dd"
      },
      "cell_type": "code",
      "source": [
        "word_counts = df_train.text.str.split(expand=True).unstack().value_counts()\n",
        "type(word_counts)"
      ],
      "execution_count": 17,
      "outputs": [
        {
          "output_type": "execute_result",
          "data": {
            "text/plain": [
              "pandas.core.series.Series"
            ]
          },
          "metadata": {
            "tags": []
          },
          "execution_count": 17
        }
      ]
    },
    {
      "metadata": {
        "id": "nxyYovarRHC1",
        "colab_type": "code",
        "colab": {
          "base_uri": "https://localhost:8080/",
          "height": 204
        },
        "outputId": "23fd8fb8-f19b-4e1f-d280-1e1937664df8"
      },
      "cell_type": "code",
      "source": [
        "tokenizer = nltk.tokenize.RegexpTokenizer('\\w+')\n",
        "df_train[\"tokenize\"] = df_train.text.apply(tokenizer.tokenize)\n",
        "df_train.head()"
      ],
      "execution_count": 19,
      "outputs": [
        {
          "output_type": "execute_result",
          "data": {
            "text/html": [
              "<div>\n",
              "<style scoped>\n",
              "    .dataframe tbody tr th:only-of-type {\n",
              "        vertical-align: middle;\n",
              "    }\n",
              "\n",
              "    .dataframe tbody tr th {\n",
              "        vertical-align: top;\n",
              "    }\n",
              "\n",
              "    .dataframe thead th {\n",
              "        text-align: right;\n",
              "    }\n",
              "</style>\n",
              "<table border=\"1\" class=\"dataframe\">\n",
              "  <thead>\n",
              "    <tr style=\"text-align: right;\">\n",
              "      <th></th>\n",
              "      <th>id</th>\n",
              "      <th>text</th>\n",
              "      <th>author</th>\n",
              "      <th>tokenize</th>\n",
              "    </tr>\n",
              "  </thead>\n",
              "  <tbody>\n",
              "    <tr>\n",
              "      <th>0</th>\n",
              "      <td>id26305</td>\n",
              "      <td>This process, however, afforded me no means of...</td>\n",
              "      <td>EAP</td>\n",
              "      <td>[This, process, however, afforded, me, no, mea...</td>\n",
              "    </tr>\n",
              "    <tr>\n",
              "      <th>1</th>\n",
              "      <td>id17569</td>\n",
              "      <td>It never once occurred to me that the fumbling...</td>\n",
              "      <td>HPL</td>\n",
              "      <td>[It, never, once, occurred, to, me, that, the,...</td>\n",
              "    </tr>\n",
              "    <tr>\n",
              "      <th>2</th>\n",
              "      <td>id11008</td>\n",
              "      <td>In his left hand was a gold snuff box, from wh...</td>\n",
              "      <td>EAP</td>\n",
              "      <td>[In, his, left, hand, was, a, gold, snuff, box...</td>\n",
              "    </tr>\n",
              "    <tr>\n",
              "      <th>3</th>\n",
              "      <td>id27763</td>\n",
              "      <td>How lovely is spring As we looked from Windsor...</td>\n",
              "      <td>MWS</td>\n",
              "      <td>[How, lovely, is, spring, As, we, looked, from...</td>\n",
              "    </tr>\n",
              "    <tr>\n",
              "      <th>4</th>\n",
              "      <td>id12958</td>\n",
              "      <td>Finding nothing else, not even gold, the Super...</td>\n",
              "      <td>HPL</td>\n",
              "      <td>[Finding, nothing, else, not, even, gold, the,...</td>\n",
              "    </tr>\n",
              "  </tbody>\n",
              "</table>\n",
              "</div>"
            ],
            "text/plain": [
              "        id                                               text author  \\\n",
              "0  id26305  This process, however, afforded me no means of...    EAP   \n",
              "1  id17569  It never once occurred to me that the fumbling...    HPL   \n",
              "2  id11008  In his left hand was a gold snuff box, from wh...    EAP   \n",
              "3  id27763  How lovely is spring As we looked from Windsor...    MWS   \n",
              "4  id12958  Finding nothing else, not even gold, the Super...    HPL   \n",
              "\n",
              "                                            tokenize  \n",
              "0  [This, process, however, afforded, me, no, mea...  \n",
              "1  [It, never, once, occurred, to, me, that, the,...  \n",
              "2  [In, his, left, hand, was, a, gold, snuff, box...  \n",
              "3  [How, lovely, is, spring, As, we, looked, from...  \n",
              "4  [Finding, nothing, else, not, even, gold, the,...  "
            ]
          },
          "metadata": {
            "tags": []
          },
          "execution_count": 19
        }
      ]
    },
    {
      "metadata": {
        "id": "5FXl4DG8dKqx",
        "colab_type": "code",
        "colab": {}
      },
      "cell_type": "code",
      "source": [
        "word_list = df_train.tokenize.tolist()\n"
      ],
      "execution_count": 0,
      "outputs": []
    },
    {
      "metadata": {
        "id": "oGkm7D_ndWVS",
        "colab_type": "code",
        "colab": {}
      },
      "cell_type": "code",
      "source": [
        "word_list_flattened = []\n",
        "for sent in word_list:\n",
        "  for word in sent:\n",
        "    word_list_flattened.append(word)"
      ],
      "execution_count": 0,
      "outputs": []
    },
    {
      "metadata": {
        "id": "dcW1ZAOhfL8Z",
        "colab_type": "code",
        "colab": {}
      },
      "cell_type": "code",
      "source": [
        "from collections import Counter\n",
        "sw = nltk.corpus.stopwords.words('english')\n",
        "words_ns = [word for word in word_list_flattened if word.lower() not in sw]\n"
      ],
      "execution_count": 0,
      "outputs": []
    },
    {
      "metadata": {
        "id": "XHYyu8TXOnW5",
        "colab_type": "code",
        "colab": {}
      },
      "cell_type": "code",
      "source": [
        "#df_words = pd.DataFrame(Counter(words_ns),index=[0])\n"
      ],
      "execution_count": 0,
      "outputs": []
    },
    {
      "metadata": {
        "id": "s_RnMT0xjvwe",
        "colab_type": "code",
        "colab": {}
      },
      "cell_type": "code",
      "source": [
        "count_words = dict(Counter(words_ns))"
      ],
      "execution_count": 0,
      "outputs": []
    },
    {
      "metadata": {
        "id": "XgcQhfTORs-3",
        "colab_type": "code",
        "colab": {}
      },
      "cell_type": "code",
      "source": [
        "df_words = pd.DataFrame(list(count_words.items()),columns=[\"words\",\"count\"])\n"
      ],
      "execution_count": 0,
      "outputs": []
    },
    {
      "metadata": {
        "id": "-dkCxgTXnqgB",
        "colab_type": "code",
        "colab": {
          "base_uri": "https://localhost:8080/",
          "height": 204
        },
        "outputId": "1944b223-998d-4a7a-e0c0-4f4ab31f1f4f"
      },
      "cell_type": "code",
      "source": [
        "desc = df_words.sort_values(\"count\",ascending=False).reset_index()\n",
        "desc.head()"
      ],
      "execution_count": 46,
      "outputs": [
        {
          "output_type": "execute_result",
          "data": {
            "text/html": [
              "<div>\n",
              "<style scoped>\n",
              "    .dataframe tbody tr th:only-of-type {\n",
              "        vertical-align: middle;\n",
              "    }\n",
              "\n",
              "    .dataframe tbody tr th {\n",
              "        vertical-align: top;\n",
              "    }\n",
              "\n",
              "    .dataframe thead th {\n",
              "        text-align: right;\n",
              "    }\n",
              "</style>\n",
              "<table border=\"1\" class=\"dataframe\">\n",
              "  <thead>\n",
              "    <tr style=\"text-align: right;\">\n",
              "      <th></th>\n",
              "      <th>index</th>\n",
              "      <th>words</th>\n",
              "      <th>count</th>\n",
              "    </tr>\n",
              "  </thead>\n",
              "  <tbody>\n",
              "    <tr>\n",
              "      <th>0</th>\n",
              "      <td>274</td>\n",
              "      <td>one</td>\n",
              "      <td>1623</td>\n",
              "    </tr>\n",
              "    <tr>\n",
              "      <th>1</th>\n",
              "      <td>435</td>\n",
              "      <td>upon</td>\n",
              "      <td>1411</td>\n",
              "    </tr>\n",
              "    <tr>\n",
              "      <th>2</th>\n",
              "      <td>131</td>\n",
              "      <td>could</td>\n",
              "      <td>1316</td>\n",
              "    </tr>\n",
              "    <tr>\n",
              "      <th>3</th>\n",
              "      <td>168</td>\n",
              "      <td>would</td>\n",
              "      <td>1241</td>\n",
              "    </tr>\n",
              "    <tr>\n",
              "      <th>4</th>\n",
              "      <td>362</td>\n",
              "      <td>man</td>\n",
              "      <td>779</td>\n",
              "    </tr>\n",
              "  </tbody>\n",
              "</table>\n",
              "</div>"
            ],
            "text/plain": [
              "   index  words  count\n",
              "0    274    one   1623\n",
              "1    435   upon   1411\n",
              "2    131  could   1316\n",
              "3    168  would   1241\n",
              "4    362    man    779"
            ]
          },
          "metadata": {
            "tags": []
          },
          "execution_count": 46
        }
      ]
    },
    {
      "metadata": {
        "id": "JgIJy3jpOsbd",
        "colab_type": "code",
        "colab": {
          "base_uri": "https://localhost:8080/",
          "height": 377
        },
        "outputId": "943024a4-22ac-4612-c66e-14e096b77c36"
      },
      "cell_type": "code",
      "source": [
        "freqdist.plot(10)\n",
        "plt.show()"
      ],
      "execution_count": 66,
      "outputs": [
        {
          "output_type": "display_data",
          "data": {
            "image/png": "[encoded data removed]",
            "text/plain": [
              "<Figure size 576x396 with 1 Axes>"
            ]
          },
          "metadata": {
            "tags": []
          }
        }
      ]
    },
    {
      "metadata": {
        "id": "SEtCTn2Kn8Ho",
        "colab_type": "code",
        "colab": {
          "base_uri": "https://localhost:8080/",
          "height": 415
        },
        "outputId": "49957459-68c2-4a4e-809a-b292ae241806"
      },
      "cell_type": "code",
      "source": [
        "sns.barplot(data=desc.iloc[:10],x=\"words\",y=\"count\")\n",
        "plt.show()"
      ],
      "execution_count": 47,
      "outputs": [
        {
          "output_type": "stream",
          "text": [
            "/usr/local/lib/python3.6/dist-packages/seaborn/categorical.py:1428: FutureWarning: remove_na is deprecated and is a private function. Do not use.\n",
            "  stat_data = remove_na(group_data)\n"
          ],
          "name": "stderr"
        },
        {
          "output_type": "display_data",
          "data": {
            "image/png": "[encoded data removed]",
            "text/plain": [
              "<Figure size 576x396 with 1 Axes>"
            ]
          },
          "metadata": {
            "tags": []
          }
        }
      ]
    },
    {
      "metadata": {
        "id": "ls_yzYIY7jDa",
        "colab_type": "code",
        "colab": {
          "base_uri": "https://localhost:8080/",
          "height": 34
        },
        "outputId": "920d3d16-8f93-460b-e86a-8e632c60fba7"
      },
      "cell_type": "code",
      "source": [
        "len(count_words.keys())"
      ],
      "execution_count": 49,
      "outputs": [
        {
          "output_type": "execute_result",
          "data": {
            "text/plain": [
              "24944"
            ]
          },
          "metadata": {
            "tags": []
          },
          "execution_count": 49
        }
      ]
    },
    {
      "metadata": {
        "id": "FYklmps41fN3",
        "colab_type": "code",
        "colab": {}
      },
      "cell_type": "code",
      "source": [
        "#Create word2index and index2word\n",
        "word2idx = {}\n",
        "idx2word = {}\n",
        "\n",
        "for index,word in enumerate(count_words.keys()):\n",
        "  word2idx[word] = index\n",
        "  idx2word[index] = word"
      ],
      "execution_count": 0,
      "outputs": []
    },
    {
      "metadata": {
        "id": "liKXue2CM_yy",
        "colab_type": "code",
        "colab": {
          "base_uri": "https://localhost:8080/",
          "height": 34
        },
        "outputId": "e2d7a8e6-2a11-4d57-cff4-92039b96eaa7"
      },
      "cell_type": "code",
      "source": [
        "word2idx.get(\"windsor\",999999)\n",
        "len(word2idx)"
      ],
      "execution_count": 51,
      "outputs": [
        {
          "output_type": "execute_result",
          "data": {
            "text/plain": [
              "24944"
            ]
          },
          "metadata": {
            "tags": []
          },
          "execution_count": 51
        }
      ]
    },
    {
      "metadata": {
        "id": "2s1f5ARO1fWE",
        "colab_type": "code",
        "colab": {
          "base_uri": "https://localhost:8080/",
          "height": 374
        },
        "outputId": "1a527e90-c2d9-4281-8d2f-0604afb08094"
      },
      "cell_type": "code",
      "source": [
        "#Replace each word in word list by their word2idx\n",
        "for line in range(len(word_list)):\n",
        "  stop_token  = [word.lower() for word in word_list[line] if word in count_words.keys()]\n",
        "  word_list[line] = stop_token\n",
        "word_list[0]\n"
      ],
      "execution_count": 52,
      "outputs": [
        {
          "output_type": "execute_result",
          "data": {
            "text/plain": [
              "['process',\n",
              " 'however',\n",
              " 'afforded',\n",
              " 'means',\n",
              " 'ascertaining',\n",
              " 'dimensions',\n",
              " 'dungeon',\n",
              " 'might',\n",
              " 'make',\n",
              " 'circuit',\n",
              " 'return',\n",
              " 'point',\n",
              " 'whence',\n",
              " 'set',\n",
              " 'without',\n",
              " 'aware',\n",
              " 'fact',\n",
              " 'perfectly',\n",
              " 'uniform',\n",
              " 'seemed',\n",
              " 'wall']"
            ]
          },
          "metadata": {
            "tags": []
          },
          "execution_count": 52
        }
      ]
    },
    {
      "metadata": {
        "id": "wwkcK9B01faa",
        "colab_type": "code",
        "colab": {
          "base_uri": "https://localhost:8080/",
          "height": 34
        },
        "outputId": "62460856-866a-4982-95a8-4e723678bd59"
      },
      "cell_type": "code",
      "source": [
        "vec_list = []\n",
        "for line in range(len(word_list)):\n",
        "  vec = [word2idx[word] for word in word_list[line]]\n",
        "  vec_list.append(vec)\n",
        "vec_list[2]"
      ],
      "execution_count": 53,
      "outputs": [
        {
          "output_type": "execute_result",
          "data": {
            "text/plain": [
              "[26, 27, 28, 29, 30, 31, 32, 33, 34, 35, 36, 37, 29, 38, 39, 40, 41, 42, 43]"
            ]
          },
          "metadata": {
            "tags": []
          },
          "execution_count": 53
        }
      ]
    },
    {
      "metadata": {
        "id": "kRLdGGESX2Lx",
        "colab_type": "text"
      },
      "cell_type": "markdown",
      "source": [
        "**LDA**"
      ]
    },
    {
      "metadata": {
        "id": "bKcyhq4j1feI",
        "colab_type": "code",
        "colab": {}
      },
      "cell_type": "code",
      "source": [
        "#Implementing Dirichlet Algorithm\n",
        "alpha = 0.2\n",
        "beta = 0.01\n",
        "#no of topics\n",
        "K = 3\n",
        "#length of vocabulary\n",
        "V = len(count_words.keys())\n",
        "#no of documents\n",
        "D = len(vec_list)\n",
        "# For practical implementation, we will generate the following three count matrices:\n",
        "# 1) Word-Topic count matrix, 2) Topic-Document assignment matrix, 3) Document-Topic count matrix\n",
        "word_topic_count = np.zeros((K,V))\n",
        "# Initialize topic-document assignment matrix\n",
        "topic_doc_assign = [np.zeros(len(sublist)) for sublist in vec_list]\n",
        "# Initialize document-topic matrix\n",
        "doc_topic_matrix = np.zeros((D,K))\n",
        "#no of iterations\n",
        "iter = 200"
      ],
      "execution_count": 0,
      "outputs": []
    },
    {
      "metadata": {
        "id": "eCc_wvYJgZwZ",
        "colab_type": "code",
        "colab": {
          "base_uri": "https://localhost:8080/",
          "height": 34
        },
        "outputId": "9b5a1206-db72-4715-e28c-f4d6762d1522"
      },
      "cell_type": "code",
      "source": [
        "word_topic_count.shape"
      ],
      "execution_count": 63,
      "outputs": [
        {
          "output_type": "execute_result",
          "data": {
            "text/plain": [
              "(3, 24944)"
            ]
          },
          "metadata": {
            "tags": []
          },
          "execution_count": 63
        }
      ]
    },
    {
      "metadata": {
        "id": "xrBWwO5B1fhV",
        "colab_type": "code",
        "colab": {
          "base_uri": "https://localhost:8080/",
          "height": 68
        },
        "outputId": "bc20ddf0-1215-445f-815a-2f63dca005c3"
      },
      "cell_type": "code",
      "source": [
        "# Randomly assign topics to each word. Same word in different documents may be assigned\n",
        "# the same topic as topic assignment is random\n",
        "for doc in range(D):\n",
        "  for word in range(len(vec_list[doc])):\n",
        "    topic_doc_assign[doc][word] = np.random.choice(K,1)\n",
        "    word_topic = int(topic_doc_assign[doc][word])\n",
        "    word_doc_ID = vec_list[doc][word]\n",
        "    word_topic_count[word_topic][word_doc_ID] += 1\n",
        "\n",
        "print(f'Word-topic count matrix with random topic assignment: {word_topic_count}')"
      ],
      "execution_count": 64,
      "outputs": [
        {
          "output_type": "stream",
          "text": [
            "Word-topic count matrix with random topic assignment: [[  4. 132.  16. ...   1.   1.   0.]\n",
            " [  6.  97.   8. ...   0.   0.   0.]\n",
            " [  7. 129.  14. ...   0.   0.   1.]]\n"
          ],
          "name": "stdout"
        }
      ]
    },
    {
      "metadata": {
        "id": "ByzN-WflpIgU",
        "colab_type": "code",
        "colab": {
          "base_uri": "https://localhost:8080/",
          "height": 51
        },
        "outputId": "4a9467cd-1c5b-41ee-f6af-0e2479ba14fd"
      },
      "cell_type": "code",
      "source": [
        "topic_doc_assign[0]\n",
        "#sum(topic_doc_assign[0] == 0)"
      ],
      "execution_count": 65,
      "outputs": [
        {
          "output_type": "execute_result",
          "data": {
            "text/plain": [
              "array([2., 2., 1., 1., 0., 2., 2., 1., 2., 0., 0., 0., 1., 2., 2., 2., 2.,\n",
              "       2., 1., 2., 0.])"
            ]
          },
          "metadata": {
            "tags": []
          },
          "execution_count": 65
        }
      ]
    },
    {
      "metadata": {
        "id": "spVd_le21flJ",
        "colab_type": "code",
        "colab": {
          "base_uri": "https://localhost:8080/",
          "height": 102
        },
        "outputId": "af186699-dbb3-4f3f-a921-7b9191a1b4b7"
      },
      "cell_type": "code",
      "source": [
        "# Randomly assign topics to each document\n",
        "for doc in range(D):\n",
        "  for topic in range(K):\n",
        "    topic_doc_vector = topic_doc_assign[doc]\n",
        "    doc_topic_matrix[doc][topic] = sum(topic_doc_vector == topic)\n",
        "    \n",
        "print(f'doc-topic count matrix with random topic assignment first 5 docs: {doc_topic_matrix[0:5]}')\n",
        "    "
      ],
      "execution_count": 66,
      "outputs": [
        {
          "output_type": "stream",
          "text": [
            "doc-topic count matrix with random topic assignment first 5 docs: [[ 5.  5. 11.]\n",
            " [ 1.  3.  2.]\n",
            " [ 5.  9.  5.]\n",
            " [ 9.  5.  7.]\n",
            " [10.  3.  3.]]\n"
          ],
          "name": "stdout"
        }
      ]
    },
    {
      "metadata": {
        "id": "bN2hsxNf1foF",
        "colab_type": "code",
        "colab": {}
      },
      "cell_type": "code",
      "source": [
        "# Main part of the algorithm\n",
        "for it in range(iter):\n",
        "  for doc in range(D):\n",
        "    for word in range(len(vec_list[doc])):\n",
        "      init_topic_assign = int(topic_doc_assign[doc][word])\n",
        "      word_id = vec_list[doc][word]\n",
        "      doc_topic_matrix[doc][init_topic_assign] -= 1\n",
        "      word_topic_count[init_topic_assign][word_id] -=1\n",
        "      denom1 = sum(doc_topic_matrix[doc]) + K*alpha\n",
        "      denom2 = np.sum(word_topic_count, axis = 1) + V*beta\n",
        "      # Numerators, number of words assigned to a topic + prior dirichlet param\n",
        "      numerator1 = [doc_topic_matrix[doc][col] for col in range(K)] \n",
        "      numerator1 = np.array(numerator1) + alpha\n",
        "      numerator2 = [word_topic_count[row][word_id] for row in range(K)]\n",
        "      numerator2 = np.array(numerator2) + beta\n",
        "      \n",
        "      prob_topics = (numerator1/denom1)*(numerator2/denom2)\n",
        "      prob_topics = prob_topics/sum(prob_topics)\n",
        "      update_topic_assign = np.random.choice(K,1,list(prob_topics))\n",
        "      topic_doc_assign[doc][word] = update_topic_assign\n",
        "      doc_topic_matrix[doc][init_topic_assign] += 1\n",
        "      word_topic_count[init_topic_assign][word_id] +=1\n",
        "      "
      ],
      "execution_count": 0,
      "outputs": []
    },
    {
      "metadata": {
        "id": "FeIpEmMt1frY",
        "colab_type": "code",
        "colab": {}
      },
      "cell_type": "code",
      "source": [
        "theta = (doc_topic_matrix+alpha)\n",
        "theta_row_sum = np.sum(theta, axis = 1)\n",
        "theta = theta/theta_row_sum.reshape((D,1))"
      ],
      "execution_count": 0,
      "outputs": []
    },
    {
      "metadata": {
        "id": "RqBbXNsY1fvz",
        "colab_type": "code",
        "colab": {
          "base_uri": "https://localhost:8080/",
          "height": 68
        },
        "outputId": "9c201170-a141-48e0-f697-bad957ebeff4"
      },
      "cell_type": "code",
      "source": [
        "print(f'Subset of document-topic mixture matrix: {theta[0:3]}')"
      ],
      "execution_count": 72,
      "outputs": [
        {
          "output_type": "stream",
          "text": [
            "Subset of document-topic mixture matrix: [[0.24074074 0.24074074 0.51851852]\n",
            " [0.18181818 0.48484848 0.33333333]\n",
            " [0.26530612 0.46938776 0.26530612]]\n"
          ],
          "name": "stdout"
        }
      ]
    },
    {
      "metadata": {
        "id": "twOdoy-f1fzE",
        "colab_type": "code",
        "colab": {
          "base_uri": "https://localhost:8080/",
          "height": 85
        },
        "outputId": "4fc4624e-d945-413a-bdd8-fb14346b3203"
      },
      "cell_type": "code",
      "source": [
        "df_train.text[0:3]"
      ],
      "execution_count": 73,
      "outputs": [
        {
          "output_type": "execute_result",
          "data": {
            "text/plain": [
              "0    This process, however, afforded me no means of...\n",
              "1    It never once occurred to me that the fumbling...\n",
              "2    In his left hand was a gold snuff box, from wh...\n",
              "Name: text, dtype: object"
            ]
          },
          "metadata": {
            "tags": []
          },
          "execution_count": 73
        }
      ]
    },
    {
      "metadata": {
        "id": "FFiwDH9WmLMW",
        "colab_type": "code",
        "colab": {}
      },
      "cell_type": "code",
      "source": [
        "phi = (word_topic_count + beta)\n",
        "phi_row_sum = np.sum(phi, axis = 1)\n",
        "phi = phi/phi_row_sum.reshape((K,1))"
      ],
      "execution_count": 0,
      "outputs": []
    },
    {
      "metadata": {
        "id": "Dd4j3PEKmVNj",
        "colab_type": "code",
        "colab": {
          "base_uri": "https://localhost:8080/",
          "height": 119
        },
        "outputId": "b1466585-476f-43f2-998e-4747689065f9"
      },
      "cell_type": "code",
      "source": [
        "print(f'Topic-word mixture matrix: {phi}')"
      ],
      "execution_count": 75,
      "outputs": [
        {
          "output_type": "stream",
          "text": [
            "Topic-word mixture matrix: [[4.67870701e-05 1.54023968e-03 1.86798252e-04 ... 1.17842745e-05\n",
            "  1.17842745e-05 1.16675985e-07]\n",
            " [7.03257592e-05 1.13515839e-03 9.37286741e-05 ... 1.17014574e-07\n",
            "  1.17014574e-07 1.17014574e-07]\n",
            " [8.19390065e-05 1.50798163e-03 1.63761124e-04 ... 1.16888740e-07\n",
            "  1.16888740e-07 1.18057627e-05]]\n"
          ],
          "name": "stdout"
        }
      ]
    },
    {
      "metadata": {
        "id": "hfxI12Igoo4R",
        "colab_type": "code",
        "colab": {}
      },
      "cell_type": "code",
      "source": [
        "list_dict_topics = []\n",
        "for topic in range(K):\n",
        "  mydict = {}\n",
        "  for word in range(V):\n",
        "    mydict[list(count_words.keys())[word]] = phi[topic][word]\n",
        "  list_dict_topics.append(mydict)\n",
        "    "
      ],
      "execution_count": 0,
      "outputs": []
    },
    {
      "metadata": {
        "id": "pamddfItp941",
        "colab_type": "code",
        "colab": {
          "base_uri": "https://localhost:8080/",
          "height": 527
        },
        "outputId": "e956cfb0-2e4a-4a12-fbb7-c4f485d09fd9"
      },
      "cell_type": "code",
      "source": [
        "sorted([(value,key) for (key,value) in list_dict_topics[2].items()])[::-1][10:40]"
      ],
      "execution_count": 83,
      "outputs": [
        {
          "output_type": "execute_result",
          "data": {
            "text/plain": [
              "[(0.0024547804221647235, 'eyes'),\n",
              " (0.0024314026742273424, 'might'),\n",
              " (0.0022560695646969826, 'saw'),\n",
              " (0.002244380690728292, 'night'),\n",
              " (0.0022210029427909106, 'life'),\n",
              " (0.00220931406882222, 'us'),\n",
              " (0.00220931406882222, 'seemed'),\n",
              " (0.00220931406882222, 'never'),\n",
              " (0.00220931406882222, 'must'),\n",
              " (0.002174247446916148, 'still'),\n",
              " (0.002174247446916148, 'made'),\n",
              " (0.002139180825010076, 'first'),\n",
              " (0.0021274919510413854, 'like'),\n",
              " (0.0020690475811979323, 'little'),\n",
              " (0.0020573587072292413, 'many'),\n",
              " (0.0020573587072292413, 'every'),\n",
              " (0.0019872254634170977, 'well'),\n",
              " (0.0019521588415110256, 'day'),\n",
              " (0.0019404699675423349, 'came'),\n",
              " (0.0019287810935736443, 'long'),\n",
              " (0.0019287810935736443, 'found'),\n",
              " (0.0018937144716675723, 'great'),\n",
              " (0.0017885146059493564, 'ever'),\n",
              " (0.0016833147402311407, 'thought'),\n",
              " (0.0016833147402311407, 'much'),\n",
              " (0.00167162586626245, 'see'),\n",
              " (0.0016599369922937594, 'thus'),\n",
              " (0.0015781148745129248, 'two'),\n",
              " (0.0015781148745129248, 'may'),\n",
              " (0.001566426000544234, 'say')]"
            ]
          },
          "metadata": {
            "tags": []
          },
          "execution_count": 83
        }
      ]
    },
    {
      "metadata": {
        "id": "pbOKZD5qpOLO",
        "colab_type": "code",
        "colab": {}
      },
      "cell_type": "code",
      "source": [
        ""
      ],
      "execution_count": 0,
      "outputs": []
    },
    {
      "metadata": {
        "id": "DJj2_UeYr0CN",
        "colab_type": "text"
      },
      "cell_type": "markdown",
      "source": [
        "**Separate notebook testing regex functions**"
      ]
    },
    {
      "metadata": {
        "id": "Vr9LH7IaSFVj",
        "colab_type": "code",
        "colab": {
          "base_uri": "https://localhost:8080/",
          "height": 34
        },
        "outputId": "18c321b2-f9b9-46f1-c060-065bd4668f52"
      },
      "cell_type": "code",
      "source": [
        "import re\n",
        "xx = \"guru99education is fun\"\n",
        "r1 = re.findall(r\"\\w+\",xx)\n",
        "print(r1)"
      ],
      "execution_count": 4,
      "outputs": [
        {
          "output_type": "stream",
          "text": [
            "['guru99education', 'is', 'fun']\n"
          ],
          "name": "stdout"
        }
      ]
    },
    {
      "metadata": {
        "id": "uAY33pXSU9bj",
        "colab_type": "code",
        "colab": {}
      },
      "cell_type": "code",
      "source": [
        "list = [\"guru99g get\", \"guru99 give\", \"guru Selenium\"]\n",
        "for element in list:\n",
        "    z = re.match(\"(g\\w+)(g\\w+)\", element)\n",
        "    if z:\n",
        "      print(z.groups())"
      ],
      "execution_count": 0,
      "outputs": []
    },
    {
      "metadata": {
        "id": "m6jslF5lqilr",
        "colab_type": "code",
        "colab": {
          "base_uri": "https://localhost:8080/",
          "height": 85
        },
        "outputId": "f70e0afb-da14-434a-be26-45ce4d966264"
      },
      "cell_type": "code",
      "source": [
        "import nltk\n",
        "from nltk.tokenize import word_tokenize,regexp_tokenize\n",
        "nltk.download('punkt')\n",
        "nltk.download('stopwords')\n",
        "#Emoji and German language tokenization\n",
        "german_text = \"Wann gehen wir Pizza essen? 🍕 Und fährst du mit Über? 🚕\""
      ],
      "execution_count": 23,
      "outputs": [
        {
          "output_type": "stream",
          "text": [
            "[nltk_data] Downloading package punkt to /root/nltk_data...\n",
            "[nltk_data]   Unzipping tokenizers/punkt.zip.\n",
            "[nltk_data] Downloading package stopwords to /root/nltk_data...\n",
            "[nltk_data]   Unzipping corpora/stopwords.zip.\n"
          ],
          "name": "stdout"
        }
      ]
    },
    {
      "metadata": {
        "id": "_fbZBw_LsJ7I",
        "colab_type": "code",
        "colab": {
          "base_uri": "https://localhost:8080/",
          "height": 68
        },
        "outputId": "b95e6c3f-a3a6-4ff1-ebc6-a2f452b81dc5"
      },
      "cell_type": "code",
      "source": [
        "all_words = word_tokenize(german_text)\n",
        "print(all_words)\n",
        "\n",
        "# Tokenize and print only capital words\n",
        "capital_words = r\"[A-ZÜÖÄ]\\w+\"\n",
        "print(regexp_tokenize(german_text, capital_words))\n",
        "\n",
        "# Tokenize and print only emoji\n",
        "emoji = \"['\\U0001F300-\\U0001F5FF'|'\\U0001F600-\\U0001F64F'|'\\U0001F680-\\U0001F6FF'|'\\u2600-\\u26FF\\u2700-\\u27BF']\"\n",
        "print(regexp_tokenize(german_text, emoji))"
      ],
      "execution_count": 18,
      "outputs": [
        {
          "output_type": "stream",
          "text": [
            "['Wann', 'gehen', 'wir', 'Pizza', 'essen', '?', '🍕', 'Und', 'fährst', 'du', 'mit', 'Über', '?', '🚕']\n",
            "['Wann', 'Pizza', 'Und', 'Über']\n",
            "['🍕', '🚕']\n"
          ],
          "name": "stdout"
        }
      ]
    }
  ]
}