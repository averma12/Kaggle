{
  "nbformat": 4,
  "nbformat_minor": 0,
  "metadata": {
    "colab": {
      "name": "NYC_taxi_Kaggle.ipynb",
      "version": "0.3.2",
      "provenance": [],
      "collapsed_sections": [],
      "include_colab_link": true
    },
    "kernelspec": {
      "name": "python3",
      "display_name": "Python 3"
    }
  },
  "cells": [
    {
      "cell_type": "markdown",
      "metadata": {
        "id": "view-in-github",
        "colab_type": "text"
      },
      "source": [
        "<a href=\"https://colab.research.google.com/github/averma12/Kaggle/blob/master/NYC_taxi_Kaggle.ipynb\" target=\"_parent\"><img src=\"https://colab.research.google.com/assets/colab-badge.svg\" alt=\"Open In Colab\"/></a>"
      ]
    },
    {
      "metadata": {
        "id": "V9n5PYFfYG8e",
        "colab_type": "code",
        "colab": {
          "base_uri": "https://localhost:8080/",
          "height": 204
        },
        "outputId": "424bdc84-4a93-450b-b86b-4ecf3934e268"
      },
      "cell_type": "code",
      "source": [
        "! pip install kaggle"
      ],
      "execution_count": 3,
      "outputs": [
        {
          "output_type": "stream",
          "text": [
            "Requirement already satisfied: kaggle in /usr/local/lib/python3.6/dist-packages (1.5.2)\n",
            "Requirement already satisfied: urllib3<1.23.0,>=1.15 in /usr/local/lib/python3.6/dist-packages (from kaggle) (1.22)\n",
            "Requirement already satisfied: six>=1.10 in /usr/local/lib/python3.6/dist-packages (from kaggle) (1.11.0)\n",
            "Requirement already satisfied: certifi in /usr/local/lib/python3.6/dist-packages (from kaggle) (2018.11.29)\n",
            "Requirement already satisfied: python-dateutil in /usr/local/lib/python3.6/dist-packages (from kaggle) (2.5.3)\n",
            "Requirement already satisfied: requests in /usr/local/lib/python3.6/dist-packages (from kaggle) (2.18.4)\n",
            "Requirement already satisfied: tqdm in /usr/local/lib/python3.6/dist-packages (from kaggle) (4.28.1)\n",
            "Requirement already satisfied: python-slugify in /usr/local/lib/python3.6/dist-packages (from kaggle) (2.0.1)\n",
            "Requirement already satisfied: idna<2.7,>=2.5 in /usr/local/lib/python3.6/dist-packages (from requests->kaggle) (2.6)\n",
            "Requirement already satisfied: chardet<3.1.0,>=3.0.2 in /usr/local/lib/python3.6/dist-packages (from requests->kaggle) (3.0.4)\n",
            "Requirement already satisfied: Unidecode>=0.04.16 in /usr/local/lib/python3.6/dist-packages (from python-slugify->kaggle) (1.0.23)\n"
          ],
          "name": "stdout"
        }
      ]
    },
    {
      "metadata": {
        "id": "fNnfjJJ7YZ2A",
        "colab_type": "code",
        "colab": {}
      },
      "cell_type": "code",
      "source": [
        "from googleapiclient.discovery import build\n",
        "import io, os\n",
        "from googleapiclient.http import MediaIoBaseDownload\n",
        "from google.colab import auth"
      ],
      "execution_count": 0,
      "outputs": []
    },
    {
      "metadata": {
        "id": "o1LxahZ1Ztsg",
        "colab_type": "code",
        "colab": {}
      },
      "cell_type": "code",
      "source": [
        "auth.authenticate_user()"
      ],
      "execution_count": 0,
      "outputs": []
    },
    {
      "metadata": {
        "id": "dk5wpZLaZ4DY",
        "colab_type": "code",
        "colab": {
          "base_uri": "https://localhost:8080/",
          "height": 34
        },
        "outputId": "0f4f554f-fbc1-4240-9b8f-5d81d49ef02f"
      },
      "cell_type": "code",
      "source": [
        "drive_service = build('drive', 'v3')\n",
        "results = drive_service.files().list(\n",
        "        q=\"name = 'kaggle.json'\", fields=\"files(id)\").execute()\n",
        "kaggle_api_key = results.get('files', [])\n",
        "filename = \"/content/.kaggle/kaggle.json\"\n",
        "os.makedirs(os.path.dirname(filename), exist_ok=True)\n",
        "request = drive_service.files().get_media(fileId=kaggle_api_key[0]['id'])\n",
        "fh = io.FileIO(filename, 'wb')\n",
        "downloader = MediaIoBaseDownload(fh, request)\n",
        "done = False\n",
        "while done is False:\n",
        "    status, done = downloader.next_chunk()\n",
        "    print(\"Download %d%%.\" % int(status.progress() * 100))\n",
        "os.chmod(filename, 600)"
      ],
      "execution_count": 7,
      "outputs": [
        {
          "output_type": "stream",
          "text": [
            "Download 100%.\n"
          ],
          "name": "stdout"
        }
      ]
    },
    {
      "metadata": {
        "id": "U0t4tlV_hX1y",
        "colab_type": "code",
        "colab": {}
      },
      "cell_type": "code",
      "source": [
        "os.rmdir('/content/.kaggle/kaggle.json')"
      ],
      "execution_count": 0,
      "outputs": []
    },
    {
      "metadata": {
        "id": "BIbrOUXkhDdF",
        "colab_type": "code",
        "colab": {}
      },
      "cell_type": "code",
      "source": [
        "os.makedirs('/content/.kaggle/',exist_ok=True)"
      ],
      "execution_count": 0,
      "outputs": []
    },
    {
      "metadata": {
        "id": "w1JeEoKYhlZz",
        "colab_type": "code",
        "colab": {}
      },
      "cell_type": "code",
      "source": [
        "os.makedirs('/root/.kaggle/',exist_ok=True)"
      ],
      "execution_count": 0,
      "outputs": []
    },
    {
      "metadata": {
        "id": "ATVyBCTFcC9G",
        "colab_type": "code",
        "colab": {}
      },
      "cell_type": "code",
      "source": [
        "import json\n",
        "token = {\"username\":\"averma12\",\"key\":\"f345e377d75ac0a4fc7f21f0e26c0aaf\"}"
      ],
      "execution_count": 0,
      "outputs": []
    },
    {
      "metadata": {
        "id": "h8FDNnbXk6XX",
        "colab_type": "code",
        "colab": {}
      },
      "cell_type": "code",
      "source": [
        "with open('/content/.kaggle/kaggle.json', 'w') as file:\n",
        "  json.dump(token, file)"
      ],
      "execution_count": 0,
      "outputs": []
    },
    {
      "metadata": {
        "id": "XqyKwVMxo3f3",
        "colab_type": "code",
        "colab": {}
      },
      "cell_type": "code",
      "source": [
        "!cp /content/.kaggle/kaggle.json ~/.kaggle/kaggle.json"
      ],
      "execution_count": 0,
      "outputs": []
    },
    {
      "metadata": {
        "id": "DDgIEeWrZ-di",
        "colab_type": "code",
        "colab": {
          "base_uri": "https://localhost:8080/",
          "height": 238
        },
        "outputId": "584900e8-6ce2-4ee8-fc98-d108924a9e3b"
      },
      "cell_type": "code",
      "source": [
        "!kaggle competitions download -c new-york-city-taxi-fare-prediction -p /content/kaggle"
      ],
      "execution_count": 18,
      "outputs": [
        {
          "output_type": "stream",
          "text": [
            "Warning: Your Kaggle API key is readable by other users on this system! To fix this, you can run 'chmod 600 /root/.kaggle/kaggle.json'\n",
            "Downloading sample_submission.csv to /content/kaggle\n",
            "  0% 0.00/335k [00:00<?, ?B/s]\n",
            "100% 335k/335k [00:00<00:00, 51.8MB/s]\n",
            "Downloading test.csv to /content/kaggle\n",
            "  0% 0.00/960k [00:00<?, ?B/s]\n",
            "100% 960k/960k [00:00<00:00, 61.9MB/s]\n",
            "Downloading train.csv.zip to /content/kaggle\n",
            " 99% 1.55G/1.56G [00:24<00:00, 85.1MB/s]\n",
            "100% 1.56G/1.56G [00:24<00:00, 68.8MB/s]\n",
            "Downloading GCP-Coupons-Instructions.rtf to /content/kaggle\n",
            "  0% 0.00/486 [00:00<?, ?B/s]\n",
            "100% 486/486 [00:00<00:00, 463kB/s]\n"
          ],
          "name": "stdout"
        }
      ]
    },
    {
      "metadata": {
        "id": "nVdiHoF1re7j",
        "colab_type": "code",
        "colab": {
          "base_uri": "https://localhost:8080/",
          "height": 51
        },
        "outputId": "022ebc66-508f-461d-ea3e-e53a972506d0"
      },
      "cell_type": "code",
      "source": [
        "! unzip /content/kaggle/train.csv.zip"
      ],
      "execution_count": 19,
      "outputs": [
        {
          "output_type": "stream",
          "text": [
            "Archive:  /content/kaggle/train.csv.zip\n",
            "  inflating: train.csv               \n"
          ],
          "name": "stdout"
        }
      ]
    },
    {
      "metadata": {
        "id": "Ya8HhuZUsXgQ",
        "colab_type": "code",
        "colab": {}
      },
      "cell_type": "code",
      "source": [
        "import numpy as np\n",
        "import pandas as pd"
      ],
      "execution_count": 0,
      "outputs": []
    },
    {
      "metadata": {
        "id": "hmgMTsGFs2y6",
        "colab_type": "code",
        "colab": {
          "base_uri": "https://localhost:8080/",
          "height": 309
        },
        "outputId": "e91293dc-bd4d-4a25-b4be-21f2536a47d8"
      },
      "cell_type": "code",
      "source": [
        "df_10000 = pd.read_csv('train.csv', nrows=1000)\n",
        "df_10000.head()"
      ],
      "execution_count": 14,
      "outputs": [
        {
          "output_type": "execute_result",
          "data": {
            "text/html": [
              "<div>\n",
              "<style scoped>\n",
              "    .dataframe tbody tr th:only-of-type {\n",
              "        vertical-align: middle;\n",
              "    }\n",
              "\n",
              "    .dataframe tbody tr th {\n",
              "        vertical-align: top;\n",
              "    }\n",
              "\n",
              "    .dataframe thead th {\n",
              "        text-align: right;\n",
              "    }\n",
              "</style>\n",
              "<table border=\"1\" class=\"dataframe\">\n",
              "  <thead>\n",
              "    <tr style=\"text-align: right;\">\n",
              "      <th></th>\n",
              "      <th>key</th>\n",
              "      <th>fare_amount</th>\n",
              "      <th>pickup_datetime</th>\n",
              "      <th>pickup_longitude</th>\n",
              "      <th>pickup_latitude</th>\n",
              "      <th>dropoff_longitude</th>\n",
              "      <th>dropoff_latitude</th>\n",
              "      <th>passenger_count</th>\n",
              "    </tr>\n",
              "  </thead>\n",
              "  <tbody>\n",
              "    <tr>\n",
              "      <th>0</th>\n",
              "      <td>2009-06-15 17:26:21.0000001</td>\n",
              "      <td>4.5</td>\n",
              "      <td>2009-06-15 17:26:21 UTC</td>\n",
              "      <td>-73.844311</td>\n",
              "      <td>40.721319</td>\n",
              "      <td>-73.841610</td>\n",
              "      <td>40.712278</td>\n",
              "      <td>1</td>\n",
              "    </tr>\n",
              "    <tr>\n",
              "      <th>1</th>\n",
              "      <td>2010-01-05 16:52:16.0000002</td>\n",
              "      <td>16.9</td>\n",
              "      <td>2010-01-05 16:52:16 UTC</td>\n",
              "      <td>-74.016048</td>\n",
              "      <td>40.711303</td>\n",
              "      <td>-73.979268</td>\n",
              "      <td>40.782004</td>\n",
              "      <td>1</td>\n",
              "    </tr>\n",
              "    <tr>\n",
              "      <th>2</th>\n",
              "      <td>2011-08-18 00:35:00.00000049</td>\n",
              "      <td>5.7</td>\n",
              "      <td>2011-08-18 00:35:00 UTC</td>\n",
              "      <td>-73.982738</td>\n",
              "      <td>40.761270</td>\n",
              "      <td>-73.991242</td>\n",
              "      <td>40.750562</td>\n",
              "      <td>2</td>\n",
              "    </tr>\n",
              "    <tr>\n",
              "      <th>3</th>\n",
              "      <td>2012-04-21 04:30:42.0000001</td>\n",
              "      <td>7.7</td>\n",
              "      <td>2012-04-21 04:30:42 UTC</td>\n",
              "      <td>-73.987130</td>\n",
              "      <td>40.733143</td>\n",
              "      <td>-73.991567</td>\n",
              "      <td>40.758092</td>\n",
              "      <td>1</td>\n",
              "    </tr>\n",
              "    <tr>\n",
              "      <th>4</th>\n",
              "      <td>2010-03-09 07:51:00.000000135</td>\n",
              "      <td>5.3</td>\n",
              "      <td>2010-03-09 07:51:00 UTC</td>\n",
              "      <td>-73.968095</td>\n",
              "      <td>40.768008</td>\n",
              "      <td>-73.956655</td>\n",
              "      <td>40.783762</td>\n",
              "      <td>1</td>\n",
              "    </tr>\n",
              "  </tbody>\n",
              "</table>\n",
              "</div>"
            ],
            "text/plain": [
              "                             key  fare_amount          pickup_datetime  \\\n",
              "0    2009-06-15 17:26:21.0000001          4.5  2009-06-15 17:26:21 UTC   \n",
              "1    2010-01-05 16:52:16.0000002         16.9  2010-01-05 16:52:16 UTC   \n",
              "2   2011-08-18 00:35:00.00000049          5.7  2011-08-18 00:35:00 UTC   \n",
              "3    2012-04-21 04:30:42.0000001          7.7  2012-04-21 04:30:42 UTC   \n",
              "4  2010-03-09 07:51:00.000000135          5.3  2010-03-09 07:51:00 UTC   \n",
              "\n",
              "   pickup_longitude  pickup_latitude  dropoff_longitude  dropoff_latitude  \\\n",
              "0        -73.844311        40.721319         -73.841610         40.712278   \n",
              "1        -74.016048        40.711303         -73.979268         40.782004   \n",
              "2        -73.982738        40.761270         -73.991242         40.750562   \n",
              "3        -73.987130        40.733143         -73.991567         40.758092   \n",
              "4        -73.968095        40.768008         -73.956655         40.783762   \n",
              "\n",
              "   passenger_count  \n",
              "0                1  \n",
              "1                1  \n",
              "2                2  \n",
              "3                1  \n",
              "4                1  "
            ]
          },
          "metadata": {
            "tags": []
          },
          "execution_count": 14
        }
      ]
    },
    {
      "metadata": {
        "id": "5WxJUTyT7wOd",
        "colab_type": "code",
        "colab": {}
      },
      "cell_type": "code",
      "source": [
        "#infer datatypes\n",
        "#df_10000.dtypes\n",
        "cols = ['fare_amount', 'pickup_datetime', 'pickup_longitude', 'pickup_latitude', 'dropoff_longitude', 'dropoff_latitude', 'passenger_count']"
      ],
      "execution_count": 0,
      "outputs": []
    },
    {
      "metadata": {
        "id": "CIhDvujO8ZLa",
        "colab_type": "code",
        "colab": {}
      },
      "cell_type": "code",
      "source": [
        "types = {\n",
        "    'fare_amount': 'float16',\n",
        "    'pickup_datetime': 'str',\n",
        "    'pickup_longitude': 'float16',\n",
        "    'pickup_latitude': 'float16',\n",
        "    'dropoff_longitude': 'float16',\n",
        "    'dropoff_latitude': 'float16',\n",
        "    'passenger_count': 'uint8'\n",
        "}"
      ],
      "execution_count": 0,
      "outputs": []
    },
    {
      "metadata": {
        "id": "sg5jTrW4-uPf",
        "colab_type": "code",
        "colab": {
          "base_uri": "https://localhost:8080/",
          "height": 51
        },
        "outputId": "87ee572b-75e0-4eb8-df37-ef8afe3e4658"
      },
      "cell_type": "code",
      "source": [
        "%time df_all = pd.read_csv('train.csv',usecols=cols,dtype=types)"
      ],
      "execution_count": 5,
      "outputs": [
        {
          "output_type": "stream",
          "text": [
            "CPU times: user 1min 42s, sys: 7.82 s, total: 1min 50s\n",
            "Wall time: 3min 46s\n"
          ],
          "name": "stdout"
        }
      ]
    },
    {
      "metadata": {
        "id": "t38G5la5jbNA",
        "colab_type": "code",
        "colab": {
          "base_uri": "https://localhost:8080/",
          "height": 297
        },
        "outputId": "38fa5793-e4ab-4e34-82c0-806865b9f744"
      },
      "cell_type": "code",
      "source": [
        "df_all.describe()"
      ],
      "execution_count": 8,
      "outputs": [
        {
          "output_type": "execute_result",
          "data": {
            "text/html": [
              "<div>\n",
              "<style scoped>\n",
              "    .dataframe tbody tr th:only-of-type {\n",
              "        vertical-align: middle;\n",
              "    }\n",
              "\n",
              "    .dataframe tbody tr th {\n",
              "        vertical-align: top;\n",
              "    }\n",
              "\n",
              "    .dataframe thead th {\n",
              "        text-align: right;\n",
              "    }\n",
              "</style>\n",
              "<table border=\"1\" class=\"dataframe\">\n",
              "  <thead>\n",
              "    <tr style=\"text-align: right;\">\n",
              "      <th></th>\n",
              "      <th>fare_amount</th>\n",
              "      <th>pickup_longitude</th>\n",
              "      <th>pickup_latitude</th>\n",
              "      <th>dropoff_longitude</th>\n",
              "      <th>dropoff_latitude</th>\n",
              "      <th>passenger_count</th>\n",
              "    </tr>\n",
              "  </thead>\n",
              "  <tbody>\n",
              "    <tr>\n",
              "      <th>count</th>\n",
              "      <td>5.542386e+07</td>\n",
              "      <td>5.542386e+07</td>\n",
              "      <td>5.542386e+07</td>\n",
              "      <td>5.542348e+07</td>\n",
              "      <td>5.542348e+07</td>\n",
              "      <td>5.542386e+07</td>\n",
              "    </tr>\n",
              "    <tr>\n",
              "      <th>mean</th>\n",
              "      <td>NaN</td>\n",
              "      <td>NaN</td>\n",
              "      <td>NaN</td>\n",
              "      <td>NaN</td>\n",
              "      <td>NaN</td>\n",
              "      <td>1.685380e+00</td>\n",
              "    </tr>\n",
              "    <tr>\n",
              "      <th>std</th>\n",
              "      <td>NaN</td>\n",
              "      <td>NaN</td>\n",
              "      <td>NaN</td>\n",
              "      <td>NaN</td>\n",
              "      <td>NaN</td>\n",
              "      <td>1.327664e+00</td>\n",
              "    </tr>\n",
              "    <tr>\n",
              "      <th>min</th>\n",
              "      <td>-3.000000e+02</td>\n",
              "      <td>-3.442000e+03</td>\n",
              "      <td>-3.492000e+03</td>\n",
              "      <td>-3.442000e+03</td>\n",
              "      <td>-3.548000e+03</td>\n",
              "      <td>0.000000e+00</td>\n",
              "    </tr>\n",
              "    <tr>\n",
              "      <th>25%</th>\n",
              "      <td>6.000000e+00</td>\n",
              "      <td>-7.400000e+01</td>\n",
              "      <td>4.075000e+01</td>\n",
              "      <td>-7.400000e+01</td>\n",
              "      <td>4.071875e+01</td>\n",
              "      <td>1.000000e+00</td>\n",
              "    </tr>\n",
              "    <tr>\n",
              "      <th>50%</th>\n",
              "      <td>8.500000e+00</td>\n",
              "      <td>-7.400000e+01</td>\n",
              "      <td>4.075000e+01</td>\n",
              "      <td>-7.400000e+01</td>\n",
              "      <td>4.075000e+01</td>\n",
              "      <td>1.000000e+00</td>\n",
              "    </tr>\n",
              "    <tr>\n",
              "      <th>75%</th>\n",
              "      <td>1.250000e+01</td>\n",
              "      <td>-7.393750e+01</td>\n",
              "      <td>4.078125e+01</td>\n",
              "      <td>-7.393750e+01</td>\n",
              "      <td>4.078125e+01</td>\n",
              "      <td>2.000000e+00</td>\n",
              "    </tr>\n",
              "    <tr>\n",
              "      <th>max</th>\n",
              "      <td>inf</td>\n",
              "      <td>3.458000e+03</td>\n",
              "      <td>3.408000e+03</td>\n",
              "      <td>3.458000e+03</td>\n",
              "      <td>3.538000e+03</td>\n",
              "      <td>2.080000e+02</td>\n",
              "    </tr>\n",
              "  </tbody>\n",
              "</table>\n",
              "</div>"
            ],
            "text/plain": [
              "        fare_amount  pickup_longitude  pickup_latitude  dropoff_longitude  \\\n",
              "count  5.542386e+07      5.542386e+07     5.542386e+07       5.542348e+07   \n",
              "mean            NaN               NaN              NaN                NaN   \n",
              "std             NaN               NaN              NaN                NaN   \n",
              "min   -3.000000e+02     -3.442000e+03    -3.492000e+03      -3.442000e+03   \n",
              "25%    6.000000e+00     -7.400000e+01     4.075000e+01      -7.400000e+01   \n",
              "50%    8.500000e+00     -7.400000e+01     4.075000e+01      -7.400000e+01   \n",
              "75%    1.250000e+01     -7.393750e+01     4.078125e+01      -7.393750e+01   \n",
              "max             inf      3.458000e+03     3.408000e+03       3.458000e+03   \n",
              "\n",
              "       dropoff_latitude  passenger_count  \n",
              "count      5.542348e+07     5.542386e+07  \n",
              "mean                NaN     1.685380e+00  \n",
              "std                 NaN     1.327664e+00  \n",
              "min       -3.548000e+03     0.000000e+00  \n",
              "25%        4.071875e+01     1.000000e+00  \n",
              "50%        4.075000e+01     1.000000e+00  \n",
              "75%        4.078125e+01     2.000000e+00  \n",
              "max        3.538000e+03     2.080000e+02  "
            ]
          },
          "metadata": {
            "tags": []
          },
          "execution_count": 8
        }
      ]
    },
    {
      "metadata": {
        "id": "YqXusNUnkqpO",
        "colab_type": "code",
        "colab": {
          "base_uri": "https://localhost:8080/",
          "height": 204
        },
        "outputId": "49da6219-65ce-4acc-f8ac-004b645d7631"
      },
      "cell_type": "code",
      "source": [
        "df_all.head()"
      ],
      "execution_count": 6,
      "outputs": [
        {
          "output_type": "execute_result",
          "data": {
            "text/html": [
              "<div>\n",
              "<style scoped>\n",
              "    .dataframe tbody tr th:only-of-type {\n",
              "        vertical-align: middle;\n",
              "    }\n",
              "\n",
              "    .dataframe tbody tr th {\n",
              "        vertical-align: top;\n",
              "    }\n",
              "\n",
              "    .dataframe thead th {\n",
              "        text-align: right;\n",
              "    }\n",
              "</style>\n",
              "<table border=\"1\" class=\"dataframe\">\n",
              "  <thead>\n",
              "    <tr style=\"text-align: right;\">\n",
              "      <th></th>\n",
              "      <th>fare_amount</th>\n",
              "      <th>pickup_datetime</th>\n",
              "      <th>pickup_longitude</th>\n",
              "      <th>pickup_latitude</th>\n",
              "      <th>dropoff_longitude</th>\n",
              "      <th>dropoff_latitude</th>\n",
              "      <th>passenger_count</th>\n",
              "    </tr>\n",
              "  </thead>\n",
              "  <tbody>\n",
              "    <tr>\n",
              "      <th>0</th>\n",
              "      <td>4.500000</td>\n",
              "      <td>2009-06-15 17:26:21 UTC</td>\n",
              "      <td>-73.8750</td>\n",
              "      <td>40.71875</td>\n",
              "      <td>-73.8125</td>\n",
              "      <td>40.71875</td>\n",
              "      <td>1</td>\n",
              "    </tr>\n",
              "    <tr>\n",
              "      <th>1</th>\n",
              "      <td>16.906250</td>\n",
              "      <td>2010-01-05 16:52:16 UTC</td>\n",
              "      <td>-74.0000</td>\n",
              "      <td>40.71875</td>\n",
              "      <td>-74.0000</td>\n",
              "      <td>40.78125</td>\n",
              "      <td>1</td>\n",
              "    </tr>\n",
              "    <tr>\n",
              "      <th>2</th>\n",
              "      <td>5.699219</td>\n",
              "      <td>2011-08-18 00:35:00 UTC</td>\n",
              "      <td>-74.0000</td>\n",
              "      <td>40.75000</td>\n",
              "      <td>-74.0000</td>\n",
              "      <td>40.75000</td>\n",
              "      <td>2</td>\n",
              "    </tr>\n",
              "    <tr>\n",
              "      <th>3</th>\n",
              "      <td>7.699219</td>\n",
              "      <td>2012-04-21 04:30:42 UTC</td>\n",
              "      <td>-74.0000</td>\n",
              "      <td>40.71875</td>\n",
              "      <td>-74.0000</td>\n",
              "      <td>40.75000</td>\n",
              "      <td>1</td>\n",
              "    </tr>\n",
              "    <tr>\n",
              "      <th>4</th>\n",
              "      <td>5.300781</td>\n",
              "      <td>2010-03-09 07:51:00 UTC</td>\n",
              "      <td>-73.9375</td>\n",
              "      <td>40.78125</td>\n",
              "      <td>-73.9375</td>\n",
              "      <td>40.78125</td>\n",
              "      <td>1</td>\n",
              "    </tr>\n",
              "  </tbody>\n",
              "</table>\n",
              "</div>"
            ],
            "text/plain": [
              "   fare_amount          pickup_datetime  pickup_longitude  pickup_latitude  \\\n",
              "0     4.500000  2009-06-15 17:26:21 UTC          -73.8750         40.71875   \n",
              "1    16.906250  2010-01-05 16:52:16 UTC          -74.0000         40.71875   \n",
              "2     5.699219  2011-08-18 00:35:00 UTC          -74.0000         40.75000   \n",
              "3     7.699219  2012-04-21 04:30:42 UTC          -74.0000         40.71875   \n",
              "4     5.300781  2010-03-09 07:51:00 UTC          -73.9375         40.78125   \n",
              "\n",
              "   dropoff_longitude  dropoff_latitude  passenger_count  \n",
              "0           -73.8125          40.71875                1  \n",
              "1           -74.0000          40.78125                1  \n",
              "2           -74.0000          40.75000                2  \n",
              "3           -74.0000          40.75000                1  \n",
              "4           -73.9375          40.78125                1  "
            ]
          },
          "metadata": {
            "tags": []
          },
          "execution_count": 6
        }
      ]
    },
    {
      "metadata": {
        "id": "_y0XTypH9zIM",
        "colab_type": "text"
      },
      "cell_type": "markdown",
      "source": [
        "**Feature Engineering to Convert Categorical columns to numbers to parse dates to acceptable value etc\n",
        "**"
      ]
    },
    {
      "metadata": {
        "id": "T5sYcodo9-Xp",
        "colab_type": "code",
        "colab": {
          "base_uri": "https://localhost:8080/",
          "height": 51
        },
        "outputId": "e96bcd0a-c1fb-47e0-faaf-4c1c8fe5ecfc"
      },
      "cell_type": "code",
      "source": [
        "%time df_all['pickup_datetime'] = df_all['pickup_datetime'].str.slice(0, 16)"
      ],
      "execution_count": 7,
      "outputs": [
        {
          "output_type": "stream",
          "text": [
            "CPU times: user 17.3 s, sys: 2.34 s, total: 19.6 s\n",
            "Wall time: 19.6 s\n"
          ],
          "name": "stdout"
        }
      ]
    },
    {
      "metadata": {
        "id": "nZv0EJItHTlt",
        "colab_type": "code",
        "colab": {
          "base_uri": "https://localhost:8080/",
          "height": 51
        },
        "outputId": "fd2289a5-8879-4022-9b54-9ffbfabd1c5a"
      },
      "cell_type": "code",
      "source": [
        "%time df_all['pickup_datetime'] = pd.to_datetime(df_all['pickup_datetime'], utc=True, format='%Y-%m-%d %H:%M')"
      ],
      "execution_count": 8,
      "outputs": [
        {
          "output_type": "stream",
          "text": [
            "CPU times: user 13.3 s, sys: 371 ms, total: 13.7 s\n",
            "Wall time: 13.6 s\n"
          ],
          "name": "stdout"
        }
      ]
    },
    {
      "metadata": {
        "id": "aUOCGYo4HgVd",
        "colab_type": "code",
        "colab": {
          "base_uri": "https://localhost:8080/",
          "height": 204
        },
        "outputId": "c4afc98a-a80b-4543-b1d4-ee839e689db6"
      },
      "cell_type": "code",
      "source": [
        "df_all.head()"
      ],
      "execution_count": 10,
      "outputs": [
        {
          "output_type": "execute_result",
          "data": {
            "text/html": [
              "<div>\n",
              "<style scoped>\n",
              "    .dataframe tbody tr th:only-of-type {\n",
              "        vertical-align: middle;\n",
              "    }\n",
              "\n",
              "    .dataframe tbody tr th {\n",
              "        vertical-align: top;\n",
              "    }\n",
              "\n",
              "    .dataframe thead th {\n",
              "        text-align: right;\n",
              "    }\n",
              "</style>\n",
              "<table border=\"1\" class=\"dataframe\">\n",
              "  <thead>\n",
              "    <tr style=\"text-align: right;\">\n",
              "      <th></th>\n",
              "      <th>fare_amount</th>\n",
              "      <th>pickup_datetime</th>\n",
              "      <th>pickup_longitude</th>\n",
              "      <th>pickup_latitude</th>\n",
              "      <th>dropoff_longitude</th>\n",
              "      <th>dropoff_latitude</th>\n",
              "      <th>passenger_count</th>\n",
              "    </tr>\n",
              "  </thead>\n",
              "  <tbody>\n",
              "    <tr>\n",
              "      <th>0</th>\n",
              "      <td>4.500000</td>\n",
              "      <td>2009-06-15 17:26:00+00:00</td>\n",
              "      <td>-73.8750</td>\n",
              "      <td>40.71875</td>\n",
              "      <td>-73.8125</td>\n",
              "      <td>40.71875</td>\n",
              "      <td>1</td>\n",
              "    </tr>\n",
              "    <tr>\n",
              "      <th>1</th>\n",
              "      <td>16.906250</td>\n",
              "      <td>2010-01-05 16:52:00+00:00</td>\n",
              "      <td>-74.0000</td>\n",
              "      <td>40.71875</td>\n",
              "      <td>-74.0000</td>\n",
              "      <td>40.78125</td>\n",
              "      <td>1</td>\n",
              "    </tr>\n",
              "    <tr>\n",
              "      <th>2</th>\n",
              "      <td>5.699219</td>\n",
              "      <td>2011-08-18 00:35:00+00:00</td>\n",
              "      <td>-74.0000</td>\n",
              "      <td>40.75000</td>\n",
              "      <td>-74.0000</td>\n",
              "      <td>40.75000</td>\n",
              "      <td>2</td>\n",
              "    </tr>\n",
              "    <tr>\n",
              "      <th>3</th>\n",
              "      <td>7.699219</td>\n",
              "      <td>2012-04-21 04:30:00+00:00</td>\n",
              "      <td>-74.0000</td>\n",
              "      <td>40.71875</td>\n",
              "      <td>-74.0000</td>\n",
              "      <td>40.75000</td>\n",
              "      <td>1</td>\n",
              "    </tr>\n",
              "    <tr>\n",
              "      <th>4</th>\n",
              "      <td>5.300781</td>\n",
              "      <td>2010-03-09 07:51:00+00:00</td>\n",
              "      <td>-73.9375</td>\n",
              "      <td>40.78125</td>\n",
              "      <td>-73.9375</td>\n",
              "      <td>40.78125</td>\n",
              "      <td>1</td>\n",
              "    </tr>\n",
              "  </tbody>\n",
              "</table>\n",
              "</div>"
            ],
            "text/plain": [
              "   fare_amount           pickup_datetime  pickup_longitude  pickup_latitude  \\\n",
              "0     4.500000 2009-06-15 17:26:00+00:00          -73.8750         40.71875   \n",
              "1    16.906250 2010-01-05 16:52:00+00:00          -74.0000         40.71875   \n",
              "2     5.699219 2011-08-18 00:35:00+00:00          -74.0000         40.75000   \n",
              "3     7.699219 2012-04-21 04:30:00+00:00          -74.0000         40.71875   \n",
              "4     5.300781 2010-03-09 07:51:00+00:00          -73.9375         40.78125   \n",
              "\n",
              "   dropoff_longitude  dropoff_latitude  passenger_count  \n",
              "0           -73.8125          40.71875                1  \n",
              "1           -74.0000          40.78125                1  \n",
              "2           -74.0000          40.75000                2  \n",
              "3           -74.0000          40.75000                1  \n",
              "4           -73.9375          40.78125                1  "
            ]
          },
          "metadata": {
            "tags": []
          },
          "execution_count": 10
        }
      ]
    },
    {
      "metadata": {
        "id": "QCGVLWumLPgS",
        "colab_type": "code",
        "colab": {}
      },
      "cell_type": "code",
      "source": [
        "#will do later\n",
        "def add_datepart(dataframe,column,drop=True):\n",
        "  field = dataframe[column]\n",
        "  for n in ('Year','Month','Day','Dayofweek','Dayofyear','hour'):\n",
        "   \n",
        "  "
      ],
      "execution_count": 0,
      "outputs": []
    },
    {
      "metadata": {
        "id": "2-go8jBNUY2j",
        "colab_type": "code",
        "colab": {}
      },
      "cell_type": "code",
      "source": [
        "#extract month\n",
        "df_all['pickup_datetime_month'] = df_all['pickup_datetime'].dt.month\n",
        "#extract year\n",
        "df_all['pickup_datetime_year'] = pd.DatetimeIndex(df_all['pickup_datetime']).year\n",
        "#extract day\n",
        "df_all['pickup_datetime_day'] = df_all['pickup_datetime'].dt.day\n",
        "#extract day name\n",
        "df_all['pickup_datetime_weekday_name'] = df_all[\"pickup_datetime\"].dt.weekday_name\n",
        "#extract hour\n",
        "df_all['pickup_datetime_hour'] = df_all[\"pickup_datetime\"].dt.hour"
      ],
      "execution_count": 0,
      "outputs": []
    },
    {
      "metadata": {
        "id": "zu9-s4pPW3IO",
        "colab_type": "code",
        "colab": {
          "base_uri": "https://localhost:8080/",
          "height": 309
        },
        "outputId": "4fbfed45-8990-4815-9dfe-b43afbd5914d"
      },
      "cell_type": "code",
      "source": [
        "df_all.head()"
      ],
      "execution_count": 13,
      "outputs": [
        {
          "output_type": "execute_result",
          "data": {
            "text/html": [
              "<div>\n",
              "<style scoped>\n",
              "    .dataframe tbody tr th:only-of-type {\n",
              "        vertical-align: middle;\n",
              "    }\n",
              "\n",
              "    .dataframe tbody tr th {\n",
              "        vertical-align: top;\n",
              "    }\n",
              "\n",
              "    .dataframe thead th {\n",
              "        text-align: right;\n",
              "    }\n",
              "</style>\n",
              "<table border=\"1\" class=\"dataframe\">\n",
              "  <thead>\n",
              "    <tr style=\"text-align: right;\">\n",
              "      <th></th>\n",
              "      <th>fare_amount</th>\n",
              "      <th>pickup_datetime</th>\n",
              "      <th>pickup_longitude</th>\n",
              "      <th>pickup_latitude</th>\n",
              "      <th>dropoff_longitude</th>\n",
              "      <th>dropoff_latitude</th>\n",
              "      <th>passenger_count</th>\n",
              "      <th>pickup_datetime_month</th>\n",
              "      <th>pickup_datetime_year</th>\n",
              "      <th>pickup_datetime_day</th>\n",
              "      <th>pickup_datetime_weekday_name</th>\n",
              "      <th>pickup_datetime_hour</th>\n",
              "    </tr>\n",
              "  </thead>\n",
              "  <tbody>\n",
              "    <tr>\n",
              "      <th>0</th>\n",
              "      <td>4.500000</td>\n",
              "      <td>2009-06-15 17:26:00+00:00</td>\n",
              "      <td>-73.8750</td>\n",
              "      <td>40.71875</td>\n",
              "      <td>-73.8125</td>\n",
              "      <td>40.71875</td>\n",
              "      <td>1</td>\n",
              "      <td>6</td>\n",
              "      <td>2009</td>\n",
              "      <td>15</td>\n",
              "      <td>Monday</td>\n",
              "      <td>17</td>\n",
              "    </tr>\n",
              "    <tr>\n",
              "      <th>1</th>\n",
              "      <td>16.906250</td>\n",
              "      <td>2010-01-05 16:52:00+00:00</td>\n",
              "      <td>-74.0000</td>\n",
              "      <td>40.71875</td>\n",
              "      <td>-74.0000</td>\n",
              "      <td>40.78125</td>\n",
              "      <td>1</td>\n",
              "      <td>1</td>\n",
              "      <td>2010</td>\n",
              "      <td>5</td>\n",
              "      <td>Tuesday</td>\n",
              "      <td>16</td>\n",
              "    </tr>\n",
              "    <tr>\n",
              "      <th>2</th>\n",
              "      <td>5.699219</td>\n",
              "      <td>2011-08-18 00:35:00+00:00</td>\n",
              "      <td>-74.0000</td>\n",
              "      <td>40.75000</td>\n",
              "      <td>-74.0000</td>\n",
              "      <td>40.75000</td>\n",
              "      <td>2</td>\n",
              "      <td>8</td>\n",
              "      <td>2011</td>\n",
              "      <td>18</td>\n",
              "      <td>Thursday</td>\n",
              "      <td>0</td>\n",
              "    </tr>\n",
              "    <tr>\n",
              "      <th>3</th>\n",
              "      <td>7.699219</td>\n",
              "      <td>2012-04-21 04:30:00+00:00</td>\n",
              "      <td>-74.0000</td>\n",
              "      <td>40.71875</td>\n",
              "      <td>-74.0000</td>\n",
              "      <td>40.75000</td>\n",
              "      <td>1</td>\n",
              "      <td>4</td>\n",
              "      <td>2012</td>\n",
              "      <td>21</td>\n",
              "      <td>Saturday</td>\n",
              "      <td>4</td>\n",
              "    </tr>\n",
              "    <tr>\n",
              "      <th>4</th>\n",
              "      <td>5.300781</td>\n",
              "      <td>2010-03-09 07:51:00+00:00</td>\n",
              "      <td>-73.9375</td>\n",
              "      <td>40.78125</td>\n",
              "      <td>-73.9375</td>\n",
              "      <td>40.78125</td>\n",
              "      <td>1</td>\n",
              "      <td>3</td>\n",
              "      <td>2010</td>\n",
              "      <td>9</td>\n",
              "      <td>Tuesday</td>\n",
              "      <td>7</td>\n",
              "    </tr>\n",
              "  </tbody>\n",
              "</table>\n",
              "</div>"
            ],
            "text/plain": [
              "   fare_amount           pickup_datetime  pickup_longitude  pickup_latitude  \\\n",
              "0     4.500000 2009-06-15 17:26:00+00:00          -73.8750         40.71875   \n",
              "1    16.906250 2010-01-05 16:52:00+00:00          -74.0000         40.71875   \n",
              "2     5.699219 2011-08-18 00:35:00+00:00          -74.0000         40.75000   \n",
              "3     7.699219 2012-04-21 04:30:00+00:00          -74.0000         40.71875   \n",
              "4     5.300781 2010-03-09 07:51:00+00:00          -73.9375         40.78125   \n",
              "\n",
              "   dropoff_longitude  dropoff_latitude  passenger_count  \\\n",
              "0           -73.8125          40.71875                1   \n",
              "1           -74.0000          40.78125                1   \n",
              "2           -74.0000          40.75000                2   \n",
              "3           -74.0000          40.75000                1   \n",
              "4           -73.9375          40.78125                1   \n",
              "\n",
              "   pickup_datetime_month  pickup_datetime_year  pickup_datetime_day  \\\n",
              "0                      6                  2009                   15   \n",
              "1                      1                  2010                    5   \n",
              "2                      8                  2011                   18   \n",
              "3                      4                  2012                   21   \n",
              "4                      3                  2010                    9   \n",
              "\n",
              "  pickup_datetime_weekday_name  pickup_datetime_hour  \n",
              "0                       Monday                    17  \n",
              "1                      Tuesday                    16  \n",
              "2                     Thursday                     0  \n",
              "3                     Saturday                     4  \n",
              "4                      Tuesday                     7  "
            ]
          },
          "metadata": {
            "tags": []
          },
          "execution_count": 13
        }
      ]
    },
    {
      "metadata": {
        "id": "bB_YtpuSZSIP",
        "colab_type": "code",
        "colab": {}
      },
      "cell_type": "code",
      "source": [
        "df_10000.pickup_datetime = df_10000['pickup_datetime'].str.slice(0, 16)\n",
        "df_10000.pickup_datetime = pd.to_datetime(df_10000['pickup_datetime'], utc=True, format='%Y-%m-%d %H:%M')"
      ],
      "execution_count": 0,
      "outputs": []
    },
    {
      "metadata": {
        "id": "TLxU_YRuZ6GN",
        "colab_type": "code",
        "colab": {
          "base_uri": "https://localhost:8080/",
          "height": 1071
        },
        "outputId": "5c0e0311-2d62-4750-87c0-dd4f5c3eeac5"
      },
      "cell_type": "code",
      "source": [
        "getattr(df_10000.pickup_datetime.dt,'year')"
      ],
      "execution_count": 20,
      "outputs": [
        {
          "output_type": "execute_result",
          "data": {
            "text/plain": [
              "0      2009\n",
              "1      2010\n",
              "2      2011\n",
              "3      2012\n",
              "4      2010\n",
              "5      2011\n",
              "6      2012\n",
              "7      2012\n",
              "8      2012\n",
              "9      2009\n",
              "10     2012\n",
              "11     2012\n",
              "12     2009\n",
              "13     2013\n",
              "14     2011\n",
              "15     2013\n",
              "16     2014\n",
              "17     2009\n",
              "18     2010\n",
              "19     2014\n",
              "20     2010\n",
              "21     2013\n",
              "22     2009\n",
              "23     2010\n",
              "24     2009\n",
              "25     2011\n",
              "26     2011\n",
              "27     2011\n",
              "28     2012\n",
              "29     2013\n",
              "       ... \n",
              "970    2013\n",
              "971    2010\n",
              "972    2011\n",
              "973    2014\n",
              "974    2015\n",
              "975    2015\n",
              "976    2011\n",
              "977    2012\n",
              "978    2015\n",
              "979    2013\n",
              "980    2011\n",
              "981    2011\n",
              "982    2014\n",
              "983    2009\n",
              "984    2012\n",
              "985    2012\n",
              "986    2010\n",
              "987    2012\n",
              "988    2015\n",
              "989    2013\n",
              "990    2015\n",
              "991    2011\n",
              "992    2014\n",
              "993    2015\n",
              "994    2009\n",
              "995    2011\n",
              "996    2011\n",
              "997    2011\n",
              "998    2014\n",
              "999    2012\n",
              "Name: pickup_datetime, Length: 1000, dtype: int64"
            ]
          },
          "metadata": {
            "tags": []
          },
          "execution_count": 20
        }
      ]
    },
    {
      "metadata": {
        "id": "c4oMGLCdFkzq",
        "colab_type": "code",
        "colab": {}
      },
      "cell_type": "code",
      "source": [
        "import dask.dataframe as dd"
      ],
      "execution_count": 0,
      "outputs": []
    }
  ]
}